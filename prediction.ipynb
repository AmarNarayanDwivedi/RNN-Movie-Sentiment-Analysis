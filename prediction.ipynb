{
 "cells": [
  {
   "cell_type": "code",
   "execution_count": 1,
   "metadata": {},
   "outputs": [],
   "source": [
    "import numpy as np\n",
    "import tensorflow as tf\n",
    "from tensorflow.keras.datasets import imdb\n",
    "from tensorflow.keras.preprocessing import sequence\n",
    "from tensorflow.keras.models import load_model"
   ]
  },
  {
   "cell_type": "code",
   "execution_count": 2,
   "metadata": {},
   "outputs": [],
   "source": [
    "## Load the IMDB dataset word index\n",
    "\n",
    "word_index = imdb.get_word_index()\n",
    "reverse_word_index = {value:key for key, value in word_index.items()}"
   ]
  },
  {
   "cell_type": "code",
   "execution_count": 3,
   "metadata": {},
   "outputs": [
    {
     "name": "stderr",
     "output_type": "stream",
     "text": [
      "WARNING:absl:Compiled the loaded model, but the compiled metrics have yet to be built. `model.compile_metrics` will be empty until you train or evaluate the model.\n"
     ]
    },
    {
     "data": {
      "text/html": [
       "<pre style=\"white-space:pre;overflow-x:auto;line-height:normal;font-family:Menlo,'DejaVu Sans Mono',consolas,'Courier New',monospace\"><span style=\"font-weight: bold\">Model: \"sequential\"</span>\n",
       "</pre>\n"
      ],
      "text/plain": [
       "\u001b[1mModel: \"sequential\"\u001b[0m\n"
      ]
     },
     "metadata": {},
     "output_type": "display_data"
    },
    {
     "data": {
      "text/html": [
       "<pre style=\"white-space:pre;overflow-x:auto;line-height:normal;font-family:Menlo,'DejaVu Sans Mono',consolas,'Courier New',monospace\">┏━━━━━━━━━━━━━━━━━━━━━━━━━━━━━━━━━┳━━━━━━━━━━━━━━━━━━━━━━━━┳━━━━━━━━━━━━━━━┓\n",
       "┃<span style=\"font-weight: bold\"> Layer (type)                    </span>┃<span style=\"font-weight: bold\"> Output Shape           </span>┃<span style=\"font-weight: bold\">       Param # </span>┃\n",
       "┡━━━━━━━━━━━━━━━━━━━━━━━━━━━━━━━━━╇━━━━━━━━━━━━━━━━━━━━━━━━╇━━━━━━━━━━━━━━━┩\n",
       "│ embedding (<span style=\"color: #0087ff; text-decoration-color: #0087ff\">Embedding</span>)           │ (<span style=\"color: #00af00; text-decoration-color: #00af00\">32</span>, <span style=\"color: #00af00; text-decoration-color: #00af00\">500</span>, <span style=\"color: #00af00; text-decoration-color: #00af00\">128</span>)         │     <span style=\"color: #00af00; text-decoration-color: #00af00\">1,280,000</span> │\n",
       "├─────────────────────────────────┼────────────────────────┼───────────────┤\n",
       "│ simple_rnn (<span style=\"color: #0087ff; text-decoration-color: #0087ff\">SimpleRNN</span>)          │ (<span style=\"color: #00af00; text-decoration-color: #00af00\">32</span>, <span style=\"color: #00af00; text-decoration-color: #00af00\">128</span>)              │        <span style=\"color: #00af00; text-decoration-color: #00af00\">32,896</span> │\n",
       "├─────────────────────────────────┼────────────────────────┼───────────────┤\n",
       "│ dense (<span style=\"color: #0087ff; text-decoration-color: #0087ff\">Dense</span>)                   │ (<span style=\"color: #00af00; text-decoration-color: #00af00\">32</span>, <span style=\"color: #00af00; text-decoration-color: #00af00\">1</span>)                │           <span style=\"color: #00af00; text-decoration-color: #00af00\">129</span> │\n",
       "└─────────────────────────────────┴────────────────────────┴───────────────┘\n",
       "</pre>\n"
      ],
      "text/plain": [
       "┏━━━━━━━━━━━━━━━━━━━━━━━━━━━━━━━━━┳━━━━━━━━━━━━━━━━━━━━━━━━┳━━━━━━━━━━━━━━━┓\n",
       "┃\u001b[1m \u001b[0m\u001b[1mLayer (type)                   \u001b[0m\u001b[1m \u001b[0m┃\u001b[1m \u001b[0m\u001b[1mOutput Shape          \u001b[0m\u001b[1m \u001b[0m┃\u001b[1m \u001b[0m\u001b[1m      Param #\u001b[0m\u001b[1m \u001b[0m┃\n",
       "┡━━━━━━━━━━━━━━━━━━━━━━━━━━━━━━━━━╇━━━━━━━━━━━━━━━━━━━━━━━━╇━━━━━━━━━━━━━━━┩\n",
       "│ embedding (\u001b[38;5;33mEmbedding\u001b[0m)           │ (\u001b[38;5;34m32\u001b[0m, \u001b[38;5;34m500\u001b[0m, \u001b[38;5;34m128\u001b[0m)         │     \u001b[38;5;34m1,280,000\u001b[0m │\n",
       "├─────────────────────────────────┼────────────────────────┼───────────────┤\n",
       "│ simple_rnn (\u001b[38;5;33mSimpleRNN\u001b[0m)          │ (\u001b[38;5;34m32\u001b[0m, \u001b[38;5;34m128\u001b[0m)              │        \u001b[38;5;34m32,896\u001b[0m │\n",
       "├─────────────────────────────────┼────────────────────────┼───────────────┤\n",
       "│ dense (\u001b[38;5;33mDense\u001b[0m)                   │ (\u001b[38;5;34m32\u001b[0m, \u001b[38;5;34m1\u001b[0m)                │           \u001b[38;5;34m129\u001b[0m │\n",
       "└─────────────────────────────────┴────────────────────────┴───────────────┘\n"
      ]
     },
     "metadata": {},
     "output_type": "display_data"
    },
    {
     "data": {
      "text/html": [
       "<pre style=\"white-space:pre;overflow-x:auto;line-height:normal;font-family:Menlo,'DejaVu Sans Mono',consolas,'Courier New',monospace\"><span style=\"font-weight: bold\"> Total params: </span><span style=\"color: #00af00; text-decoration-color: #00af00\">1,313,027</span> (5.01 MB)\n",
       "</pre>\n"
      ],
      "text/plain": [
       "\u001b[1m Total params: \u001b[0m\u001b[38;5;34m1,313,027\u001b[0m (5.01 MB)\n"
      ]
     },
     "metadata": {},
     "output_type": "display_data"
    },
    {
     "data": {
      "text/html": [
       "<pre style=\"white-space:pre;overflow-x:auto;line-height:normal;font-family:Menlo,'DejaVu Sans Mono',consolas,'Courier New',monospace\"><span style=\"font-weight: bold\"> Trainable params: </span><span style=\"color: #00af00; text-decoration-color: #00af00\">1,313,025</span> (5.01 MB)\n",
       "</pre>\n"
      ],
      "text/plain": [
       "\u001b[1m Trainable params: \u001b[0m\u001b[38;5;34m1,313,025\u001b[0m (5.01 MB)\n"
      ]
     },
     "metadata": {},
     "output_type": "display_data"
    },
    {
     "data": {
      "text/html": [
       "<pre style=\"white-space:pre;overflow-x:auto;line-height:normal;font-family:Menlo,'DejaVu Sans Mono',consolas,'Courier New',monospace\"><span style=\"font-weight: bold\"> Non-trainable params: </span><span style=\"color: #00af00; text-decoration-color: #00af00\">0</span> (0.00 B)\n",
       "</pre>\n"
      ],
      "text/plain": [
       "\u001b[1m Non-trainable params: \u001b[0m\u001b[38;5;34m0\u001b[0m (0.00 B)\n"
      ]
     },
     "metadata": {},
     "output_type": "display_data"
    },
    {
     "data": {
      "text/html": [
       "<pre style=\"white-space:pre;overflow-x:auto;line-height:normal;font-family:Menlo,'DejaVu Sans Mono',consolas,'Courier New',monospace\"><span style=\"font-weight: bold\"> Optimizer params: </span><span style=\"color: #00af00; text-decoration-color: #00af00\">2</span> (12.00 B)\n",
       "</pre>\n"
      ],
      "text/plain": [
       "\u001b[1m Optimizer params: \u001b[0m\u001b[38;5;34m2\u001b[0m (12.00 B)\n"
      ]
     },
     "metadata": {},
     "output_type": "display_data"
    }
   ],
   "source": [
    "##  Load the pre-trained model with ReLU activation \n",
    "model=load_model('simple_rnn_imdb.h5')\n",
    "model.summary()"
   ]
  },
  {
   "cell_type": "code",
   "execution_count": 4,
   "metadata": {},
   "outputs": [
    {
     "data": {
      "text/plain": [
       "[array([[ 0.33778745,  0.35388008,  0.35316145, ...,  0.23333803,\n",
       "          0.25788227,  0.06509005],\n",
       "        [ 0.03682358,  0.03962304,  0.03942342, ..., -0.00757192,\n",
       "          0.00279352, -0.0572423 ],\n",
       "        [-0.01609948,  0.04003317,  0.02204372, ...,  0.00059691,\n",
       "          0.02879747, -0.00539689],\n",
       "        ...,\n",
       "        [ 0.1450495 , -0.03018558,  0.04942852, ..., -0.03466383,\n",
       "         -0.0662409 , -0.05007557],\n",
       "        [ 0.03880924,  0.03271516, -0.0520365 , ..., -0.08521096,\n",
       "          0.01830851, -0.01223567],\n",
       "        [-0.02659784, -0.04565364,  0.05222609, ...,  0.04195579,\n",
       "          0.0899963 ,  0.00514301]], dtype=float32),\n",
       " array([[-0.06747603, -0.02379514,  0.04905392, ..., -0.05748512,\n",
       "          0.07998322, -0.12480385],\n",
       "        [-0.05129932, -0.08975414, -0.02462872, ...,  0.05971437,\n",
       "          0.12816364, -0.0573331 ],\n",
       "        [-0.11018852,  0.00032159,  0.02667347, ..., -0.14760579,\n",
       "          0.02557773, -0.05897239],\n",
       "        ...,\n",
       "        [-0.1531033 ,  0.13044475, -0.17742929, ..., -0.16960627,\n",
       "          0.02110485,  0.0245166 ],\n",
       "        [ 0.0576819 ,  0.08850128, -0.09887458, ..., -0.14510395,\n",
       "          0.1171627 , -0.00850278],\n",
       "        [-0.1005119 ,  0.12324449,  0.09945383, ..., -0.00295504,\n",
       "         -0.07929282,  0.05293544]], dtype=float32),\n",
       " array([[ 0.11418992,  0.07719747, -0.04322978, ...,  0.043883  ,\n",
       "         -0.02379003,  0.01775886],\n",
       "        [-0.11014196,  0.04423186,  0.1482942 , ...,  0.13927576,\n",
       "          0.04852447,  0.04987031],\n",
       "        [ 0.06703524,  0.16128826,  0.02446811, ..., -0.15651442,\n",
       "         -0.07960694, -0.09387018],\n",
       "        ...,\n",
       "        [-0.02310458,  0.11860203, -0.01216273, ...,  0.18221411,\n",
       "         -0.10021646, -0.23539293],\n",
       "        [ 0.0094747 ,  0.0350704 , -0.05976417, ..., -0.05427276,\n",
       "         -0.07018613,  0.00317649],\n",
       "        [ 0.01645662, -0.0047517 , -0.01960196, ...,  0.14420973,\n",
       "          0.11137689, -0.0658471 ]], dtype=float32),\n",
       " array([-0.01749492, -0.02103123, -0.00585439,  0.0161577 , -0.0116907 ,\n",
       "         0.02465714, -0.0024659 , -0.00629638, -0.01147411,  0.00489285,\n",
       "         0.01087763,  0.00248408, -0.00771882, -0.00290097,  0.00529252,\n",
       "        -0.0065403 , -0.00645639, -0.00051453, -0.00971111,  0.00853737,\n",
       "        -0.0244685 ,  0.00163698, -0.00334424, -0.01167378,  0.01693523,\n",
       "         0.01339948,  0.02862103, -0.0048894 , -0.00312646,  0.02178259,\n",
       "        -0.01003928, -0.00712183, -0.00467991, -0.0077243 ,  0.01607199,\n",
       "        -0.00148814, -0.00246195, -0.00714404,  0.00476078,  0.00799867,\n",
       "         0.0173718 ,  0.02370934, -0.01090329, -0.0160525 , -0.01321829,\n",
       "         0.00977975, -0.00241138,  0.01650822, -0.00177675, -0.0241317 ,\n",
       "        -0.00620309, -0.01506983, -0.00020278,  0.01881241,  0.01573028,\n",
       "        -0.00320148,  0.0176123 , -0.01105066, -0.01126387, -0.01846858,\n",
       "         0.00262845,  0.00775817,  0.00383278, -0.04753058, -0.01185203,\n",
       "         0.01302537, -0.00090397,  0.01143561,  0.00354713,  0.02577802,\n",
       "        -0.01203268,  0.00184726, -0.00030744, -0.02395331, -0.0379581 ,\n",
       "        -0.01663683, -0.00467849, -0.01687254, -0.01400694, -0.02433166,\n",
       "         0.0014756 ,  0.00145051, -0.02810051,  0.0064885 , -0.01605293,\n",
       "        -0.01880523, -0.00454633,  0.00451704,  0.01947462, -0.07366543,\n",
       "         0.00113866, -0.02425948, -0.00152184, -0.00511909, -0.00492758,\n",
       "        -0.0079253 , -0.01053056, -0.00905323,  0.00491385, -0.01304933,\n",
       "        -0.03463005, -0.02031781,  0.00066329,  0.00614274, -0.00274532,\n",
       "        -0.00804548, -0.01647232,  0.00824073,  0.00275152, -0.01914337,\n",
       "        -0.01411902,  0.06888787, -0.00484832,  0.0272854 , -0.00256941,\n",
       "         0.00877372, -0.03269285, -0.008553  , -0.04452164,  0.02235238,\n",
       "        -0.01517862, -0.00608504, -0.0137092 , -0.01084678,  0.01600338,\n",
       "        -0.02129794, -0.00032775, -0.01335805], dtype=float32),\n",
       " array([[-5.16701713e-02],\n",
       "        [-1.19242631e-01],\n",
       "        [ 1.02089748e-01],\n",
       "        [ 2.36864731e-01],\n",
       "        [-1.21339582e-01],\n",
       "        [-9.11902189e-01],\n",
       "        [ 2.82200128e-02],\n",
       "        [ 2.63746120e-02],\n",
       "        [ 5.05881086e-02],\n",
       "        [ 6.13532811e-02],\n",
       "        [-8.20985436e-01],\n",
       "        [ 7.41478980e-01],\n",
       "        [ 1.52537167e-01],\n",
       "        [-8.62581208e-02],\n",
       "        [ 4.13589448e-01],\n",
       "        [-3.28465216e-02],\n",
       "        [ 1.10295601e-01],\n",
       "        [ 1.04214442e+00],\n",
       "        [-8.14161003e-02],\n",
       "        [ 2.53353920e-02],\n",
       "        [-2.79676318e-02],\n",
       "        [-2.43284017e-01],\n",
       "        [ 3.45342451e-05],\n",
       "        [-1.66260853e-01],\n",
       "        [-6.05704114e-02],\n",
       "        [-4.10477608e-01],\n",
       "        [-1.54683873e-01],\n",
       "        [ 2.24467572e-02],\n",
       "        [-2.04667225e-01],\n",
       "        [-1.46584785e+00],\n",
       "        [-1.21226653e-01],\n",
       "        [ 7.31789842e-02],\n",
       "        [-9.58937705e-02],\n",
       "        [ 1.12052314e-01],\n",
       "        [ 7.08246589e-01],\n",
       "        [-1.81728259e-01],\n",
       "        [ 8.85510802e-01],\n",
       "        [ 1.50684863e-01],\n",
       "        [-4.67011258e-02],\n",
       "        [-1.27400616e-02],\n",
       "        [ 8.08677495e-01],\n",
       "        [ 5.63536048e-01],\n",
       "        [-1.08000986e-01],\n",
       "        [ 1.36857474e+00],\n",
       "        [ 7.98947290e-02],\n",
       "        [-1.11199468e-01],\n",
       "        [ 1.32583128e-02],\n",
       "        [ 1.67307351e-02],\n",
       "        [-3.72420102e-02],\n",
       "        [ 2.72124857e-01],\n",
       "        [-2.17943057e-01],\n",
       "        [-1.80362254e-01],\n",
       "        [ 1.13072284e-01],\n",
       "        [ 1.96871310e-01],\n",
       "        [-3.20862345e-02],\n",
       "        [-1.10744514e-01],\n",
       "        [ 6.24797381e-02],\n",
       "        [-9.37651396e-02],\n",
       "        [-1.44850284e-01],\n",
       "        [ 2.87879817e-02],\n",
       "        [-5.63496258e-03],\n",
       "        [-1.91158324e-01],\n",
       "        [-8.56690183e-02],\n",
       "        [-3.70244831e-01],\n",
       "        [ 7.23624155e-02],\n",
       "        [ 5.46059787e-01],\n",
       "        [-1.22484118e-01],\n",
       "        [ 7.19980180e-01],\n",
       "        [ 6.57002807e-01],\n",
       "        [-1.94285423e-01],\n",
       "        [-1.00435786e-01],\n",
       "        [-1.11608720e+00],\n",
       "        [-1.63673654e-01],\n",
       "        [-9.39278211e-03],\n",
       "        [-2.25037724e-01],\n",
       "        [-1.57456622e-01],\n",
       "        [ 9.41623151e-02],\n",
       "        [ 2.05665186e-01],\n",
       "        [-1.52557567e-01],\n",
       "        [ 1.13338031e-01],\n",
       "        [ 2.18533307e-01],\n",
       "        [ 1.42212167e-01],\n",
       "        [ 2.17743546e-01],\n",
       "        [-1.17324121e-01],\n",
       "        [ 1.46128565e-01],\n",
       "        [-1.10879295e-01],\n",
       "        [-1.20842211e-01],\n",
       "        [-6.25710011e-01],\n",
       "        [ 7.60969579e-01],\n",
       "        [-5.94538927e-01],\n",
       "        [-5.40675707e-02],\n",
       "        [-1.54369622e-01],\n",
       "        [-8.60030130e-02],\n",
       "        [-1.18948102e+00],\n",
       "        [ 4.86478768e-02],\n",
       "        [ 2.28413269e-01],\n",
       "        [ 2.04691544e-01],\n",
       "        [-7.26057440e-02],\n",
       "        [-6.29292056e-02],\n",
       "        [-1.00600809e-01],\n",
       "        [-8.04766640e-02],\n",
       "        [-1.66698784e-01],\n",
       "        [ 1.29148379e-01],\n",
       "        [ 1.10226977e+00],\n",
       "        [-2.10491419e-01],\n",
       "        [-1.61341310e-01],\n",
       "        [ 9.99690711e-01],\n",
       "        [ 1.64306685e-01],\n",
       "        [ 3.98557745e-02],\n",
       "        [-4.56726313e-01],\n",
       "        [ 5.59061050e-01],\n",
       "        [ 1.12580679e-01],\n",
       "        [ 5.62740341e-02],\n",
       "        [ 1.78571358e-01],\n",
       "        [ 3.91369648e-02],\n",
       "        [-3.31889153e-01],\n",
       "        [ 8.03292021e-02],\n",
       "        [ 1.49446828e-02],\n",
       "        [-1.08478002e-01],\n",
       "        [ 6.17732346e-01],\n",
       "        [ 1.50025889e-01],\n",
       "        [-1.57133758e-01],\n",
       "        [-2.75550112e-02],\n",
       "        [-1.04431443e-01],\n",
       "        [-9.48567986e-02],\n",
       "        [-1.82460308e-01],\n",
       "        [-4.34093084e-03],\n",
       "        [-8.85544270e-02]], dtype=float32),\n",
       " array([-0.18530859], dtype=float32)]"
      ]
     },
     "execution_count": 4,
     "metadata": {},
     "output_type": "execute_result"
    }
   ],
   "source": [
    "model.get_weights()"
   ]
  },
  {
   "cell_type": "code",
   "execution_count": 14,
   "metadata": {},
   "outputs": [],
   "source": [
    "# Step 2: Helper Functions\n",
    "# Function to decode reviews\n",
    "def decode_review(encoded_review):\n",
    "    return ' '.join([reverse_word_index.get(i - 3, '?') for i in encoded_review])\n",
    "\n",
    "# Function to preprocess user input\n",
    "def preprocess_text(text):\n",
    "    words = text.lower().split()\n",
    "    encoded_review = [word_index.get(word, 2) + 3 for word in words]\n",
    "    padded_review = sequence.pad_sequences([encoded_review], maxlen=500)\n",
    "    return padded_review"
   ]
  },
  {
   "cell_type": "code",
   "execution_count": 15,
   "metadata": {},
   "outputs": [],
   "source": [
    "### Prediction  function\n",
    "\n",
    "def predict_sentiment(review):\n",
    "    preprocessed_input=preprocess_text(review)\n",
    "\n",
    "    prediction=model.predict(preprocessed_input)\n",
    "\n",
    "    sentiment = 'Positive' if prediction[0][0] > 0.5 else 'Negative'\n",
    "    \n",
    "    return sentiment, prediction[0][0]\n",
    "\n"
   ]
  },
  {
   "cell_type": "code",
   "execution_count": 20,
   "metadata": {},
   "outputs": [
    {
     "name": "stdout",
     "output_type": "stream",
     "text": [
      "\u001b[1m1/1\u001b[0m \u001b[32m━━━━━━━━━━━━━━━━━━━━\u001b[0m\u001b[37m\u001b[0m \u001b[1m0s\u001b[0m 93ms/step\n",
      " Review: This movie was boaring! The acting was really bad and the plot was thrilling.\n",
      " Sentiment: Positive\n",
      "Prediction Score: 0.5631186962127686\n"
     ]
    }
   ],
   "source": [
    "## Step 4: User Input and Pediction \n",
    "#3 Example review for prediction \n",
    "\n",
    "example_review = \"This movie was boaring! The acting was really bad and the plot was thrilling.\"\n",
    "\n",
    "\n",
    "sentiment,score=predict_sentiment(example_review)\n",
    "\n",
    "print (f' Review: {example_review}')\n",
    "print (f' Sentiment: {sentiment}')\n",
    "print (f'Prediction Score: {score}')"
   ]
  }
 ],
 "metadata": {
  "kernelspec": {
   "display_name": "base",
   "language": "python",
   "name": "python3"
  },
  "language_info": {
   "codemirror_mode": {
    "name": "ipython",
    "version": 3
   },
   "file_extension": ".py",
   "mimetype": "text/x-python",
   "name": "python",
   "nbconvert_exporter": "python",
   "pygments_lexer": "ipython3",
   "version": "3.12.7"
  }
 },
 "nbformat": 4,
 "nbformat_minor": 2
}
